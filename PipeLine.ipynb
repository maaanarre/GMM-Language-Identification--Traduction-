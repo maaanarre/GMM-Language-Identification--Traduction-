{
 "cells": [
  {
   "cell_type": "code",
   "execution_count": 9,
   "id": "3a89eb0b-cd00-4aca-8683-a50555b6ef05",
   "metadata": {},
   "outputs": [],
   "source": [
    "import os\n",
    "from pydub import AudioSegment\n",
    "from pydub.playback import play\n",
    "from gtts import gTTS\n",
    "import whisper\n",
    "import winsound\n",
    "from googletrans import Translator"
   ]
  },
  {
   "cell_type": "code",
   "execution_count": 10,
   "id": "f12c74dc-6748-46cb-ad96-67cd48140ace",
   "metadata": {},
   "outputs": [],
   "source": [
    "import warnings\n",
    "warnings.filterwarnings(\"ignore\", category=FutureWarning)"
   ]
  },
  {
   "cell_type": "code",
   "execution_count": 15,
   "id": "8c29db54-76d3-4721-b1ae-f273f9d74249",
   "metadata": {},
   "outputs": [],
   "source": [
    "result = r\"C:\\Users\\DELL\\Desktop\\S8\\Synthese vocal KHARROUBI\\final_trial_GMM\\testing_audios\\French\\F1.wav\""
   ]
  },
  {
   "cell_type": "code",
   "execution_count": 17,
   "id": "5e86a23a-7b0a-492a-be70-68c20ce6a0c7",
   "metadata": {},
   "outputs": [],
   "source": [
    "def play_audio(output_path):\n",
    "    wav_path = output_path.replace('.mp3', '.wav')\n",
    "    AudioSegment.from_mp3(output_path).export(wav_path, format='wav')\n",
    "    winsound.PlaySound(wav_path, winsound.SND_FILENAME)\n",
    "    os.remove(wav_path)"
   ]
  },
  {
   "cell_type": "code",
   "execution_count": 19,
   "id": "c49c4afe-09a7-4a97-9550-24b6dfc37f69",
   "metadata": {},
   "outputs": [],
   "source": [
    "def inference(audio_path, detected_lang, dest_lang, result_dir=\"results\"):\n",
    "    os.makedirs(result_dir, exist_ok=True)  # ensure results folder exists\n",
    "\n",
    "    # Step 1: Transcribe with Whisper\n",
    "    print(\"Transcribing with Whisper...\")\n",
    "    model = whisper.load_model(\"base\")  # or \"small\", \"medium\", \"large\"\n",
    "    result = model.transcribe(audio_path, language=detected_lang.lower())\n",
    "    transcription = result['text']\n",
    "    print(f\"📝 Transcription: {transcription}\")\n",
    "\n",
    "    # Step 2: Translate\n",
    "    print(\"Translating ...\")\n",
    "    translator = Translator()\n",
    "    translated = translator.translate(transcription, src=detected_lang.lower(), dest=dest_lang.lower())\n",
    "    translated_text = translated.text\n",
    "    print(f\"Translation: {translated_text}\")\n",
    "\n",
    "    # Step 3: Text to Speech \n",
    "    print(\"Generating TTS...\")\n",
    "    tts = gTTS(text=translated_text, lang=dest_lang.lower())\n",
    "\n",
    "    # Save the TTS audio file\n",
    "    tts_filename = f\"tts_{os.path.basename(audio_path).split('.')[0]}_{dest_lang}.mp3\"\n",
    "    output_path = os.path.join(result_dir, tts_filename)\n",
    "    tts.save(output_path)\n",
    "\n",
    "    # Play the saved TTS audio file\n",
    "    audio = AudioSegment.from_file(output_path)\n",
    "    play_audio(output_path)\n",
    "\n",
    "    print(f\"✅ TTS saved and played from: {output_path}\")\n",
    "\n",
    "    return {\n",
    "        \"transcription\": transcription,\n",
    "        \"translation\": translated_text,\n",
    "        \"tts_path\": output_path\n",
    "    }\n"
   ]
  },
  {
   "cell_type": "code",
   "execution_count": 31,
   "id": "8bc0984a-11dd-4c44-a11f-7a22ea2108eb",
   "metadata": {},
   "outputs": [
    {
     "name": "stdout",
     "output_type": "stream",
     "text": [
      "Transcribing with Whisper...\n"
     ]
    },
    {
     "name": "stderr",
     "output_type": "stream",
     "text": [
      "C:\\Users\\DELL\\anaconda3\\Lib\\site-packages\\whisper\\transcribe.py:126: UserWarning: FP16 is not supported on CPU; using FP32 instead\n",
      "  warnings.warn(\"FP16 is not supported on CPU; using FP32 instead\")\n"
     ]
    },
    {
     "name": "stdout",
     "output_type": "stream",
     "text": [
      "📝 Transcription:  Pourquoi en émence un contexte international tendu ? Et bien tout d'abord, parce que ça fait trois ans que la guerre en Ukraine fait rage. Donc ça fait trois ans plus de trois ans que la guerre en Ukraine a débuté. Cette guerre est l'un bilan humain terrible, puisqu'elle a fait plus d'un million de morts et de blessés. Deuxième point, ce sont les relations avec les États-Unis depuis l'élection de Donald Trump, qui sont en train de changer. Je le rappelle, les États-Unis sont là liés.\n",
      "Translating ...\n",
      "Translation: Why in terms of a tense international context?Well first of all, because the war in Ukraine has been raging for three years.So it's been three years more than three years since the war in Ukraine started.This war is a terrible human assessment, since it has left more than a million dead and wounded.Second point, it is relations with the United States since the election of Donald Trump, which are changing.I remind you, the United States is linked.\n",
      "Generating TTS...\n",
      "✅ TTS saved and played from: results\\tts_F1_en.mp3\n"
     ]
    },
    {
     "data": {
      "text/plain": [
       "{'transcription': \" Pourquoi en émence un contexte international tendu ? Et bien tout d'abord, parce que ça fait trois ans que la guerre en Ukraine fait rage. Donc ça fait trois ans plus de trois ans que la guerre en Ukraine a débuté. Cette guerre est l'un bilan humain terrible, puisqu'elle a fait plus d'un million de morts et de blessés. Deuxième point, ce sont les relations avec les États-Unis depuis l'élection de Donald Trump, qui sont en train de changer. Je le rappelle, les États-Unis sont là liés.\",\n",
       " 'translation': \"Why in terms of a tense international context?Well first of all, because the war in Ukraine has been raging for three years.So it's been three years more than three years since the war in Ukraine started.This war is a terrible human assessment, since it has left more than a million dead and wounded.Second point, it is relations with the United States since the election of Donald Trump, which are changing.I remind you, the United States is linked.\",\n",
       " 'tts_path': 'results\\\\tts_F1_en.mp3'}"
      ]
     },
     "execution_count": 31,
     "metadata": {},
     "output_type": "execute_result"
    }
   ],
   "source": [
    "audio = r\"C:\\Users\\DELL\\Desktop\\S8\\Synthese vocal KHARROUBI\\final_trial_GMM\\testing_audios\\French\\F1.wav\"\n",
    "detected_lang = \"French\"\n",
    "dest_lang = \"en\"\n",
    "\n",
    "inference(audio, detected_lang,dest_lang)"
   ]
  },
  {
   "cell_type": "code",
   "execution_count": null,
   "id": "ba904a4c-8b5f-4680-9fe4-9cf6953a65b8",
   "metadata": {},
   "outputs": [],
   "source": []
  }
 ],
 "metadata": {
  "kernelspec": {
   "display_name": "Python 3 (ipykernel)",
   "language": "python",
   "name": "python3"
  },
  "language_info": {
   "codemirror_mode": {
    "name": "ipython",
    "version": 3
   },
   "file_extension": ".py",
   "mimetype": "text/x-python",
   "name": "python",
   "nbconvert_exporter": "python",
   "pygments_lexer": "ipython3",
   "version": "3.12.3"
  }
 },
 "nbformat": 4,
 "nbformat_minor": 5
}
